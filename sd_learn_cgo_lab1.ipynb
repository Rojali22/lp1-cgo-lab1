{
  "cells": [
    {
      "cell_type": "code",
      "execution_count": null,
      "metadata": {
        "id": "urkECkXbAgo6"
      },
      "outputs": [],
      "source": [
        "!pip install git+https://github.com/ibm-granite-community/utils \\\n",
        "    \"langchain_community<0.3.0\" \\\n",
        "    replicate"
      ]
    },
    {
      "cell_type": "code",
      "execution_count": null,
      "metadata": {
        "id": "3r0HxqRQNo6A"
      },
      "outputs": [],
      "source": [
        "from ibm_granite_community.notebook_utils import get_env_var\n",
        "from langchain_community.llms import Replicate\n",
        "\n",
        "model = Replicate(\n",
        "    # model=\"ibm-granite/granite-3.0-8b-instruct\",\n",
        "    # model=\"ibm-granite/granite-8b-code-instruct-128k\",\n",
        "    model=\"ibm-granite/granite-20b-code-instruct-8k\",\n",
        "    replicate_api_token=get_env_var('REPLICATE_API_TOKEN'),\n",
        "    model_kwargs={\"max_length\":300, \"temperature\":0.2},\n",
        ")"
      ]
    },
    {
      "cell_type": "code",
      "execution_count": null,
      "metadata": {
        "id": "3URKgq3vOME_"
      },
      "outputs": [],
      "source": [
        "def zeroshot_prompt(context, question, book_titles):\n",
        "    \"\"\"\n",
        "    Creates a zero-shot prompt for the model, where the model acts as a seasoned programmer.\n",
        "\n",
        "    Parameters:\n",
        "    - context: str, contextual information for the prompt\n",
        "    - question: str, specific question or task for the model to perform\n",
        "    - book_titles: list, list of book titles to include in the prompt\n",
        "    Returns:\n",
        "    - str, the formatted prompt\n",
        "    \"\"\"\n",
        "\n",
        "    titles = \", \".join(book_titles)\n",
        "    prompt = f\"\"\"\n",
        "    You are an experienced programmer with 15 years of experience writing full-stack applications.\n",
        "    Your task is to generate code for an application using the context provided in the task: {context}.\n",
        "    Begin by creating components based on the user question: {question}.\n",
        "    Include a description of elements provided in {titles}.\n",
        "    Ensure that you generate only Python code for a Jupyter Notebook using ipywidgets UI components.\n",
        "    Do not output anything but the code. The output code should not exceed 300 tokens.\n",
        "    \"\"\"\n",
        "    return prompt\n"
      ]
    },
    {
      "cell_type": "code",
      "execution_count": null,
      "metadata": {
        "id": "f-o9FFvbOQQJ"
      },
      "outputs": [],
      "source": [
        "def get_answer_using_zeroshot(context, question, book_titles):\n",
        "    \"\"\"\n",
        "    Generates the response from the model based on a zero-shot prompt.\n",
        "\n",
        "    Parameters:\n",
        "    - context: str, contextual information for the prompt\n",
        "    - question: str, specific question for the model to answer\n",
        "    - book_titles: list, list of book titles to include in the prompt\n",
        "\n",
        "    Returns:\n",
        "    - str, the generated result from the model\n",
        "    \"\"\"\n",
        "    prompt = zeroshot_prompt(context, question, book_titles)\n",
        "    result = model.invoke(prompt)\n",
        "\n",
        "    return result"
      ]
    },
    {
      "cell_type": "code",
      "execution_count": null,
      "metadata": {
        "id": "9ScSaBu9OXRI"
      },
      "outputs": [],
      "source": [
        "context = \"Design and develop an online bookstore UI components with minimalistic theme.\"\n",
        "question = \"Create the landing page for users visiting my bookstore. The landing page should display a header `Reader's Online Store`, a welcome message `Welcome to Reader's Verse` along with a catalog of books titles as title. Vertically align the sections.\"\n",
        "book_titles = [\"The Great Gatsby\", \"Pride and Prejudice\", \"The Hobbit\", \"The Lord of the Rings\", \"Animal Farm\", \"Brave New World\"]\n",
        "\n",
        "# Generate and display the UI code for the landing page\n",
        "result = get_answer_using_zeroshot(context, question, book_titles)\n",
        "print(f\"Generated Code:\\n{result}\")"
      ]
    }
  ],
  "metadata": {
    "colab": {
      "provenance": []
    },
    "kernelspec": {
      "display_name": ".venv",
      "language": "python",
      "name": "python3"
    },
    "language_info": {
      "codemirror_mode": {
        "name": "ipython",
        "version": 3
      },
      "file_extension": ".py",
      "mimetype": "text/x-python",
      "name": "python",
      "nbconvert_exporter": "python",
      "pygments_lexer": "ipython3",
      "version": "3.10.11"
    }
  },
  "nbformat": 4,
  "nbformat_minor": 0
}