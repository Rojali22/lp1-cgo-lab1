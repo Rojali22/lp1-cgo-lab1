{
  "cells": [
    {
      "cell_type": "markdown",
      "metadata": {
        "id": "view-in-github",
        "colab_type": "text"
      },
      "source": [
        "<a href=\"https://colab.research.google.com/github/Rojali22/lp1-cgo-lab1/blob/main/games_quiz.ipynb\" target=\"_parent\"><img src=\"https://colab.research.google.com/assets/colab-badge.svg\" alt=\"Open In Colab\"/></a>"
      ]
    },
    {
      "cell_type": "code",
      "source": [
        "import ipywidgets as widgets\n",
        "from IPython.display import display, clear_output\n",
        "\n",
        "# Pertanyaan & Jawaban\n",
        "questions = [\n",
        "    {\n",
        "        \"question\": \"Bahasa pemrograman apa yang identik dengan logo ular?\",\n",
        "        \"options\": [\"Java\", \"Python\", \"Ruby\", \"C++\"],\n",
        "        \"answer\": \"Python\"\n",
        "    },\n",
        "    {\n",
        "        \"question\": \"Bahasa pemrograman apa yang paling sering dipakai untuk pengembangan Android native?\",\n",
        "        \"options\": [\"Swift\", \"Kotlin\", \"JavaScript\", \"Go\"],\n",
        "        \"answer\": \"Kotlin\"\n",
        "    },\n",
        "    {\n",
        "        \"question\": \"Bahasa pemrograman yang dikembangkan oleh Apple untuk iOS adalah?\",\n",
        "        \"options\": [\"Objective-C\", \"Java\", \"Swift\", \"C#\"],\n",
        "        \"answer\": \"Swift\"\n",
        "    }\n",
        "]\n",
        "\n",
        "# Variabel awal\n",
        "score = 0\n",
        "current_question = 0\n",
        "\n",
        "# Output display\n",
        "output = widgets.Output()\n",
        "\n",
        "def show_question(index):\n",
        "    output.clear_output()\n",
        "    if index < len(questions):\n",
        "        q = questions[index]\n",
        "        question_label = widgets.HTML(f\"<h3>{q['question']}</h3>\")\n",
        "        buttons = []\n",
        "        for opt in q['options']:\n",
        "            btn = widgets.Button(description=opt)\n",
        "            btn.style.button_color = \"#cce5ff\"\n",
        "            btn.on_click(lambda b, opt=opt: check_answer(opt))\n",
        "            buttons.append(btn)\n",
        "        with output:\n",
        "            display(question_label, widgets.VBox(buttons))\n",
        "    else:\n",
        "        show_score()\n",
        "\n",
        "def check_answer(selected_option):\n",
        "    global score, current_question\n",
        "    correct_answer = questions[current_question][\"answer\"]\n",
        "    if selected_option == correct_answer:\n",
        "        score += 1\n",
        "    current_question += 1\n",
        "    show_question(current_question)\n",
        "\n",
        "def show_score():\n",
        "    output.clear_output()\n",
        "    with output:\n",
        "        display(widgets.HTML(f\"<h2>Skor akhir kamu: {score} dari {len(questions)}</h2>\"))\n",
        "        if score == len(questions):\n",
        "            display(widgets.HTML(\"<p><b>Luar biasa! Kamu jawab semua dengan benar! ⚡</b></p>\"))\n",
        "        elif score >= 2:\n",
        "            display(widgets.HTML(\"<p>Bagus! Kamu cukup paham dunia pemrograman.</p>\"))\n",
        "        else:\n",
        "            display(widgets.HTML(\"<p>Yuk belajar lagi biar makin jago 💪</p>\"))\n",
        "\n",
        "# Tombol mulai\n",
        "start_button = widgets.Button(description=\"Mulai Quiz\", button_style='success')\n",
        "\n",
        "def start_game(b):\n",
        "    global score, current_question\n",
        "    score = 0\n",
        "    current_question = 0\n",
        "    show_question(current_question)\n",
        "\n",
        "start_button.on_click(start_game)\n",
        "\n",
        "# Tampilan awal\n",
        "display(widgets.HTML(\"<h1>🎮 Mini Game: Tebak Bahasa Pemrograman</h1>\"))\n",
        "display(start_button)\n",
        "display(output)\n"
      ],
      "metadata": {
        "colab": {
          "base_uri": "https://localhost:8080/",
          "height": 102,
          "referenced_widgets": [
            "2a0a6f611056485aa8456acfe0f7d791",
            "921d10aac12a42108cde3ea938fcb5ad",
            "8351d5bc354f4f079aae60e895f14abb",
            "ff336b81a855417296846e80261c1bc3",
            "c269a7b5bd0840708e480c8a16e8ac56",
            "6146c7147f574b4cbbf063e1bae94844",
            "3527cfd6401144a680268cc647726775",
            "a413fd176aa4422d8ee7b30aa5a63878"
          ]
        },
        "id": "uV0GLp_yjLAL",
        "outputId": "24e5e43c-c678-4ee4-b997-c7666dc1ca86"
      },
      "execution_count": 7,
      "outputs": [
        {
          "output_type": "display_data",
          "data": {
            "text/plain": [
              "HTML(value='<h1>🎮 Mini Game: Tebak Bahasa Pemrograman</h1>')"
            ],
            "application/vnd.jupyter.widget-view+json": {
              "version_major": 2,
              "version_minor": 0,
              "model_id": "2a0a6f611056485aa8456acfe0f7d791"
            }
          },
          "metadata": {}
        },
        {
          "output_type": "display_data",
          "data": {
            "text/plain": [
              "Button(button_style='success', description='Mulai Quiz', style=ButtonStyle())"
            ],
            "application/vnd.jupyter.widget-view+json": {
              "version_major": 2,
              "version_minor": 0,
              "model_id": "ff336b81a855417296846e80261c1bc3"
            }
          },
          "metadata": {}
        },
        {
          "output_type": "display_data",
          "data": {
            "text/plain": [
              "Output()"
            ],
            "application/vnd.jupyter.widget-view+json": {
              "version_major": 2,
              "version_minor": 0,
              "model_id": "3527cfd6401144a680268cc647726775"
            }
          },
          "metadata": {}
        }
      ]
    }
  ],
  "metadata": {
    "colab": {
      "provenance": [],
      "include_colab_link": true
    },
    "kernelspec": {
      "display_name": ".venv",
      "language": "python",
      "name": "python3"
    },
    "language_info": {
      "codemirror_mode": {
        "name": "ipython",
        "version": 3
      },
      "file_extension": ".py",
      "mimetype": "text/x-python",
      "name": "python",
      "nbconvert_exporter": "python",
      "pygments_lexer": "ipython3",
      "version": "3.10.11"
    },
    "widgets": {
      "application/vnd.jupyter.widget-state+json": {
        "2a0a6f611056485aa8456acfe0f7d791": {
          "model_module": "@jupyter-widgets/controls",
          "model_name": "HTMLModel",
          "model_module_version": "1.5.0",
          "state": {
            "_dom_classes": [],
            "_model_module": "@jupyter-widgets/controls",
            "_model_module_version": "1.5.0",
            "_model_name": "HTMLModel",
            "_view_count": null,
            "_view_module": "@jupyter-widgets/controls",
            "_view_module_version": "1.5.0",
            "_view_name": "HTMLView",
            "description": "",
            "description_tooltip": null,
            "layout": "IPY_MODEL_921d10aac12a42108cde3ea938fcb5ad",
            "placeholder": "​",
            "style": "IPY_MODEL_8351d5bc354f4f079aae60e895f14abb",
            "value": "<h1>🎮 Mini Game: Tebak Bahasa Pemrograman</h1>"
          }
        },
        "921d10aac12a42108cde3ea938fcb5ad": {
          "model_module": "@jupyter-widgets/base",
          "model_name": "LayoutModel",
          "model_module_version": "1.2.0",
          "state": {
            "_model_module": "@jupyter-widgets/base",
            "_model_module_version": "1.2.0",
            "_model_name": "LayoutModel",
            "_view_count": null,
            "_view_module": "@jupyter-widgets/base",
            "_view_module_version": "1.2.0",
            "_view_name": "LayoutView",
            "align_content": null,
            "align_items": null,
            "align_self": null,
            "border": null,
            "bottom": null,
            "display": null,
            "flex": null,
            "flex_flow": null,
            "grid_area": null,
            "grid_auto_columns": null,
            "grid_auto_flow": null,
            "grid_auto_rows": null,
            "grid_column": null,
            "grid_gap": null,
            "grid_row": null,
            "grid_template_areas": null,
            "grid_template_columns": null,
            "grid_template_rows": null,
            "height": null,
            "justify_content": null,
            "justify_items": null,
            "left": null,
            "margin": null,
            "max_height": null,
            "max_width": null,
            "min_height": null,
            "min_width": null,
            "object_fit": null,
            "object_position": null,
            "order": null,
            "overflow": null,
            "overflow_x": null,
            "overflow_y": null,
            "padding": null,
            "right": null,
            "top": null,
            "visibility": null,
            "width": null
          }
        },
        "8351d5bc354f4f079aae60e895f14abb": {
          "model_module": "@jupyter-widgets/controls",
          "model_name": "DescriptionStyleModel",
          "model_module_version": "1.5.0",
          "state": {
            "_model_module": "@jupyter-widgets/controls",
            "_model_module_version": "1.5.0",
            "_model_name": "DescriptionStyleModel",
            "_view_count": null,
            "_view_module": "@jupyter-widgets/base",
            "_view_module_version": "1.2.0",
            "_view_name": "StyleView",
            "description_width": ""
          }
        },
        "ff336b81a855417296846e80261c1bc3": {
          "model_module": "@jupyter-widgets/controls",
          "model_name": "ButtonModel",
          "model_module_version": "1.5.0",
          "state": {
            "_dom_classes": [],
            "_model_module": "@jupyter-widgets/controls",
            "_model_module_version": "1.5.0",
            "_model_name": "ButtonModel",
            "_view_count": null,
            "_view_module": "@jupyter-widgets/controls",
            "_view_module_version": "1.5.0",
            "_view_name": "ButtonView",
            "button_style": "success",
            "description": "Mulai Quiz",
            "disabled": false,
            "icon": "",
            "layout": "IPY_MODEL_c269a7b5bd0840708e480c8a16e8ac56",
            "style": "IPY_MODEL_6146c7147f574b4cbbf063e1bae94844",
            "tooltip": ""
          }
        },
        "c269a7b5bd0840708e480c8a16e8ac56": {
          "model_module": "@jupyter-widgets/base",
          "model_name": "LayoutModel",
          "model_module_version": "1.2.0",
          "state": {
            "_model_module": "@jupyter-widgets/base",
            "_model_module_version": "1.2.0",
            "_model_name": "LayoutModel",
            "_view_count": null,
            "_view_module": "@jupyter-widgets/base",
            "_view_module_version": "1.2.0",
            "_view_name": "LayoutView",
            "align_content": null,
            "align_items": null,
            "align_self": null,
            "border": null,
            "bottom": null,
            "display": null,
            "flex": null,
            "flex_flow": null,
            "grid_area": null,
            "grid_auto_columns": null,
            "grid_auto_flow": null,
            "grid_auto_rows": null,
            "grid_column": null,
            "grid_gap": null,
            "grid_row": null,
            "grid_template_areas": null,
            "grid_template_columns": null,
            "grid_template_rows": null,
            "height": null,
            "justify_content": null,
            "justify_items": null,
            "left": null,
            "margin": null,
            "max_height": null,
            "max_width": null,
            "min_height": null,
            "min_width": null,
            "object_fit": null,
            "object_position": null,
            "order": null,
            "overflow": null,
            "overflow_x": null,
            "overflow_y": null,
            "padding": null,
            "right": null,
            "top": null,
            "visibility": null,
            "width": null
          }
        },
        "6146c7147f574b4cbbf063e1bae94844": {
          "model_module": "@jupyter-widgets/controls",
          "model_name": "ButtonStyleModel",
          "model_module_version": "1.5.0",
          "state": {
            "_model_module": "@jupyter-widgets/controls",
            "_model_module_version": "1.5.0",
            "_model_name": "ButtonStyleModel",
            "_view_count": null,
            "_view_module": "@jupyter-widgets/base",
            "_view_module_version": "1.2.0",
            "_view_name": "StyleView",
            "button_color": null,
            "font_weight": ""
          }
        },
        "3527cfd6401144a680268cc647726775": {
          "model_module": "@jupyter-widgets/output",
          "model_name": "OutputModel",
          "model_module_version": "1.0.0",
          "state": {
            "_dom_classes": [],
            "_model_module": "@jupyter-widgets/output",
            "_model_module_version": "1.0.0",
            "_model_name": "OutputModel",
            "_view_count": null,
            "_view_module": "@jupyter-widgets/output",
            "_view_module_version": "1.0.0",
            "_view_name": "OutputView",
            "layout": "IPY_MODEL_a413fd176aa4422d8ee7b30aa5a63878",
            "msg_id": "",
            "outputs": []
          }
        },
        "a413fd176aa4422d8ee7b30aa5a63878": {
          "model_module": "@jupyter-widgets/base",
          "model_name": "LayoutModel",
          "model_module_version": "1.2.0",
          "state": {
            "_model_module": "@jupyter-widgets/base",
            "_model_module_version": "1.2.0",
            "_model_name": "LayoutModel",
            "_view_count": null,
            "_view_module": "@jupyter-widgets/base",
            "_view_module_version": "1.2.0",
            "_view_name": "LayoutView",
            "align_content": null,
            "align_items": null,
            "align_self": null,
            "border": null,
            "bottom": null,
            "display": null,
            "flex": null,
            "flex_flow": null,
            "grid_area": null,
            "grid_auto_columns": null,
            "grid_auto_flow": null,
            "grid_auto_rows": null,
            "grid_column": null,
            "grid_gap": null,
            "grid_row": null,
            "grid_template_areas": null,
            "grid_template_columns": null,
            "grid_template_rows": null,
            "height": null,
            "justify_content": null,
            "justify_items": null,
            "left": null,
            "margin": null,
            "max_height": null,
            "max_width": null,
            "min_height": null,
            "min_width": null,
            "object_fit": null,
            "object_position": null,
            "order": null,
            "overflow": null,
            "overflow_x": null,
            "overflow_y": null,
            "padding": null,
            "right": null,
            "top": null,
            "visibility": null,
            "width": null
          }
        }
      }
    }
  },
  "nbformat": 4,
  "nbformat_minor": 0
}